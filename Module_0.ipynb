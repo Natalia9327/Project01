{
 "cells": [
  {
   "cell_type": "code",
   "execution_count": null,
   "metadata": {},
   "outputs": [],
   "source": [
    "import numpy as np\n",
    "\n",
    "def guess_the_number():\n",
    "    '''Функция угадывает число, проверяя среднее значение из возможного диапазона.\n",
    "    \n",
    "    В зависимости от значения больше или меньше проверенного числа, \n",
    "    создает новый список возможных значений.\n",
    "    \n",
    "    Возвращает загаданное число и количество понадобившихся попыток.\n",
    "    '''\n",
    "    \n",
    "    possible_numbers = [x for x in range(1, 101)] # диапазон возможных значений\n",
    "    number = 50    # устанавливаем среднее значение из возможных\n",
    "    count = 1     # счетчик попыток\n",
    "    predict = np.random.randint(1,101)  # загаданное число\n",
    "    \n",
    "    while number != predict:\n",
    "        if number > predict:\n",
    "            possible_numbers = possible_numbers[:possible_numbers.index(number)]\n",
    "        else:\n",
    "            possible_numbers = possible_numbers[possible_numbers.index(number)+1 :]\n",
    "        number = (possible_numbers[0] + possible_numbers[-1]) // 2 # задаем среднее значение из нового списка\n",
    "        count += 1\n",
    "        \n",
    "    print('Число {} угадано. Количество попыток - {}.'.format(predict, count))"
   ]
  }
 ],
 "metadata": {
  "kernelspec": {
   "display_name": "Python 3",
   "language": "python",
   "name": "python3"
  }
 },
 "nbformat": 4,
 "nbformat_minor": 4
}
